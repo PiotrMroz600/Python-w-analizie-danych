{
 "cells": [
  {
   "cell_type": "markdown",
   "id": "behind-olive",
   "metadata": {},
   "source": [
    "# Python: Typy logiczne - zadania"
   ]
  },
  {
   "cell_type": "markdown",
   "id": "driven-colleague",
   "metadata": {},
   "source": [
    "## Type Bool True or False\n",
    "\n",
    "1. Użyj danych z sekcji \"Input\" (patrz poniżej)\n",
    "2. Które zmienne są True?\n",
    "3. Które zmienne są False?\n",
    "\n",
    "Input:"
   ]
  },
  {
   "cell_type": "code",
   "execution_count": 3,
   "id": "becoming-agreement",
   "metadata": {},
   "outputs": [],
   "source": [
    "a = bool(False)\n",
    "b = bool(True)\n",
    "\n",
    "c = bool(0)\n",
    "d = bool(0.0)\n",
    "e = bool(-0)\n",
    "f = bool(-0.0)\n",
    "\n",
    "g = bool('a')\n",
    "h = bool('.')\n",
    "i = bool('0')\n",
    "j = bool('0.0')\n",
    "k = bool('')\n",
    "l = bool(' ')\n",
    "\n",
    "m = bool(int('0'))\n",
    "n = bool(float(str(-0)))\n",
    "\n",
    "o = bool(-0.0+0.0j)\n",
    "p = bool('-0.0+0.0j')"
   ]
  },
  {
   "cell_type": "code",
   "execution_count": 6,
   "id": "seeing-details",
   "metadata": {},
   "outputs": [
    {
     "data": {
      "text/plain": [
       "False"
      ]
     },
     "execution_count": 6,
     "metadata": {},
     "output_type": "execute_result"
    }
   ],
   "source": [
    "bool(a)"
   ]
  },
  {
   "cell_type": "code",
   "execution_count": 7,
   "id": "planned-campus",
   "metadata": {},
   "outputs": [
    {
     "data": {
      "text/plain": [
       "True"
      ]
     },
     "execution_count": 7,
     "metadata": {},
     "output_type": "execute_result"
    }
   ],
   "source": [
    "bool(b)"
   ]
  },
  {
   "cell_type": "code",
   "execution_count": 8,
   "id": "geological-draft",
   "metadata": {},
   "outputs": [
    {
     "data": {
      "text/plain": [
       "False"
      ]
     },
     "execution_count": 8,
     "metadata": {},
     "output_type": "execute_result"
    }
   ],
   "source": [
    "bool(c)"
   ]
  },
  {
   "cell_type": "code",
   "execution_count": 10,
   "id": "selective-viking",
   "metadata": {},
   "outputs": [
    {
     "data": {
      "text/plain": [
       "False"
      ]
     },
     "execution_count": 10,
     "metadata": {},
     "output_type": "execute_result"
    }
   ],
   "source": [
    "bool(d)"
   ]
  },
  {
   "cell_type": "code",
   "execution_count": 11,
   "id": "blank-cambodia",
   "metadata": {},
   "outputs": [
    {
     "data": {
      "text/plain": [
       "False"
      ]
     },
     "execution_count": 11,
     "metadata": {},
     "output_type": "execute_result"
    }
   ],
   "source": [
    "bool(e)"
   ]
  },
  {
   "cell_type": "code",
   "execution_count": 12,
   "id": "polish-decrease",
   "metadata": {},
   "outputs": [
    {
     "data": {
      "text/plain": [
       "False"
      ]
     },
     "execution_count": 12,
     "metadata": {},
     "output_type": "execute_result"
    }
   ],
   "source": [
    "bool(f)"
   ]
  },
  {
   "cell_type": "code",
   "execution_count": 14,
   "id": "consolidated-duration",
   "metadata": {},
   "outputs": [
    {
     "data": {
      "text/plain": [
       "False"
      ]
     },
     "execution_count": 14,
     "metadata": {},
     "output_type": "execute_result"
    }
   ],
   "source": [
    "bool(f)"
   ]
  },
  {
   "cell_type": "code",
   "execution_count": 15,
   "id": "pursuant-fetish",
   "metadata": {},
   "outputs": [
    {
     "data": {
      "text/plain": [
       "True"
      ]
     },
     "execution_count": 15,
     "metadata": {},
     "output_type": "execute_result"
    }
   ],
   "source": [
    "bool(g)"
   ]
  },
  {
   "cell_type": "code",
   "execution_count": 16,
   "id": "outer-month",
   "metadata": {},
   "outputs": [
    {
     "data": {
      "text/plain": [
       "True"
      ]
     },
     "execution_count": 16,
     "metadata": {},
     "output_type": "execute_result"
    }
   ],
   "source": [
    "bool(h)"
   ]
  },
  {
   "cell_type": "code",
   "execution_count": 17,
   "id": "ruled-cornwall",
   "metadata": {},
   "outputs": [
    {
     "data": {
      "text/plain": [
       "True"
      ]
     },
     "execution_count": 17,
     "metadata": {},
     "output_type": "execute_result"
    }
   ],
   "source": [
    "bool(i)"
   ]
  },
  {
   "cell_type": "code",
   "execution_count": 18,
   "id": "tracked-shelter",
   "metadata": {},
   "outputs": [
    {
     "data": {
      "text/plain": [
       "True"
      ]
     },
     "execution_count": 18,
     "metadata": {},
     "output_type": "execute_result"
    }
   ],
   "source": [
    "bool(j)"
   ]
  },
  {
   "cell_type": "code",
   "execution_count": 19,
   "id": "piano-philippines",
   "metadata": {},
   "outputs": [
    {
     "data": {
      "text/plain": [
       "False"
      ]
     },
     "execution_count": 19,
     "metadata": {},
     "output_type": "execute_result"
    }
   ],
   "source": [
    "bool(k)"
   ]
  },
  {
   "cell_type": "code",
   "execution_count": 21,
   "id": "greek-cartoon",
   "metadata": {},
   "outputs": [
    {
     "data": {
      "text/plain": [
       "True"
      ]
     },
     "execution_count": 21,
     "metadata": {},
     "output_type": "execute_result"
    }
   ],
   "source": [
    "bool(l)"
   ]
  },
  {
   "cell_type": "code",
   "execution_count": 22,
   "id": "endangered-uganda",
   "metadata": {},
   "outputs": [
    {
     "data": {
      "text/plain": [
       "False"
      ]
     },
     "execution_count": 22,
     "metadata": {},
     "output_type": "execute_result"
    }
   ],
   "source": [
    "bool(m)"
   ]
  },
  {
   "cell_type": "code",
   "execution_count": 23,
   "id": "regulated-philadelphia",
   "metadata": {},
   "outputs": [
    {
     "data": {
      "text/plain": [
       "False"
      ]
     },
     "execution_count": 23,
     "metadata": {},
     "output_type": "execute_result"
    }
   ],
   "source": [
    "bool(n)"
   ]
  },
  {
   "cell_type": "code",
   "execution_count": 24,
   "id": "dependent-keeping",
   "metadata": {},
   "outputs": [
    {
     "data": {
      "text/plain": [
       "False"
      ]
     },
     "execution_count": 24,
     "metadata": {},
     "output_type": "execute_result"
    }
   ],
   "source": [
    "bool(o)"
   ]
  },
  {
   "cell_type": "code",
   "execution_count": 25,
   "id": "intellectual-setting",
   "metadata": {},
   "outputs": [
    {
     "data": {
      "text/plain": [
       "True"
      ]
     },
     "execution_count": 25,
     "metadata": {},
     "output_type": "execute_result"
    }
   ],
   "source": [
    "bool(p)"
   ]
  },
  {
   "cell_type": "markdown",
   "id": "super-penetration",
   "metadata": {},
   "source": [
    "## Type Bool Simple"
   ]
  },
  {
   "cell_type": "markdown",
   "id": "artificial-numbers",
   "metadata": {},
   "source": [
    "1. Użyj danych z sekcji \"Input\" (patrz poniżej)\n",
    "2. Co należy podstawić w wyrażeniach aby otrzymać wartość oczekiwaną?\n",
    "3. Wstawiaj tylko True lub False\n",
    "4. Porównaj wyniki z sekcją \"Output\" (patrz poniżej)"
   ]
  },
  {
   "cell_type": "markdown",
   "id": "matched-seattle",
   "metadata": {},
   "source": [
    "Input:"
   ]
  },
  {
   "cell_type": "code",
   "execution_count": 33,
   "id": "planned-theme",
   "metadata": {},
   "outputs": [],
   "source": [
    "a = bool(...) == True                   # True\n",
    "b = bool(...) == False                  # True\n",
    "c = ... == True                         # True\n",
    "d = ... != False                        # True\n",
    "e = ... or ...                          # True\n",
    "f = ... and ...                         # False\n",
    "g = bool(bool(...) == False) or False   # True\n",
    "h = bool(...) is not bool(...)          # False"
   ]
  },
  {
   "cell_type": "code",
   "execution_count": 37,
   "id": "discrete-fancy",
   "metadata": {},
   "outputs": [
    {
     "name": "stdout",
     "output_type": "stream",
     "text": [
      "True\n",
      "True\n",
      "True\n",
      "True\n",
      "True\n",
      "False\n",
      "True\n",
      "False\n"
     ]
    }
   ],
   "source": [
    "a = bool(True) == True                   # True\n",
    "b = bool(False) == False                  # True\n",
    "c = True == True                         # True\n",
    "d = True != False                        # True\n",
    "e = True or True                          # True\n",
    "f = True and False                         # False\n",
    "g = bool(bool(False) == False) or False   # True\n",
    "h = bool(True) is not bool(True)          # False\n",
    "\n",
    "print(a)\n",
    "print(b)\n",
    "print(c)\n",
    "print(d)\n",
    "print(e)\n",
    "print(f)\n",
    "print(g)\n",
    "print(h)"
   ]
  },
  {
   "cell_type": "markdown",
   "id": "opposed-summit",
   "metadata": {},
   "source": [
    "## Type None"
   ]
  },
  {
   "cell_type": "markdown",
   "id": "final-oriental",
   "metadata": {},
   "source": [
    "1. Użyj danych z sekcji \"Input\" (patrz poniżej)\n",
    "2. Co należy podstawić w wyrażeniach aby otrzymać wartość oczekiwaną?\n",
    "3. Porównaj wyniki z sekcją \"Output\" (patrz poniżej)"
   ]
  },
  {
   "cell_type": "markdown",
   "id": "typical-africa",
   "metadata": {},
   "source": [
    "Input:"
   ]
  },
  {
   "cell_type": "code",
   "execution_count": 38,
   "id": "inside-country",
   "metadata": {},
   "outputs": [],
   "source": [
    "a = ... is None                                                                       # True\n",
    "b = ... is not None                                                                   # False\n",
    "c = bool(bool(...) is not bool(...)) == False                                         # True\n",
    "d = (bool(bool(...) is not bool(...)) == False and bool(...))                         # False\n",
    "e = (bool(bool(...) is not bool(...)) == False and bool(...)) and (... is not None)   # False"
   ]
  },
  {
   "cell_type": "code",
   "execution_count": 46,
   "id": "about-guatemala",
   "metadata": {},
   "outputs": [
    {
     "name": "stdout",
     "output_type": "stream",
     "text": [
      "True\n",
      "False\n",
      "True\n",
      "False\n",
      "False\n"
     ]
    }
   ],
   "source": [
    "a = None is None                                                                       # True\n",
    "b = None is not None                                                                   # False\n",
    "c = bool(bool(None) is not bool(None)) == False                                         # True\n",
    "d = (bool(bool(None) is not bool(None)) == False and bool(None))                         # False\n",
    "e = (bool(bool(None) is not bool(None)) == False and bool(None)) and (None is not None)   # False\n",
    "\n",
    "print(a)\n",
    "print(b)\n",
    "print(c)\n",
    "print(d)\n",
    "print(e)"
   ]
  },
  {
   "cell_type": "code",
   "execution_count": null,
   "id": "polyphonic-elements",
   "metadata": {},
   "outputs": [],
   "source": []
  }
 ],
 "metadata": {
  "kernelspec": {
   "display_name": "Python 3",
   "language": "python",
   "name": "python3"
  },
  "language_info": {
   "codemirror_mode": {
    "name": "ipython",
    "version": 3
   },
   "file_extension": ".py",
   "mimetype": "text/x-python",
   "name": "python",
   "nbconvert_exporter": "python",
   "pygments_lexer": "ipython3",
   "version": "3.9.2"
  }
 },
 "nbformat": 4,
 "nbformat_minor": 5
}
