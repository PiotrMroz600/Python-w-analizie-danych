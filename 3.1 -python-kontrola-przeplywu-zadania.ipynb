{
 "cells": [
  {
   "cell_type": "markdown",
   "id": "inclusive-edward",
   "metadata": {},
   "source": [
    "# Python: Kontrola przepływu - Zadania"
   ]
  },
  {
   "cell_type": "markdown",
   "id": "built-recovery",
   "metadata": {},
   "source": [
    "## Conditional Operators\n",
    "\n",
    "1. Wczytaj liczbę od użytkownika\n",
    "1. Użytkownika poda ``int`` i nie będzie próbował wprowadzać niepoprawnych danych\n",
    "1. Zdefiniuj ``result: bool`` z wynikiem sprawdzania parzystości liczby wprowadzonej\n",
    "1. Liczba jest parzysta, gdy dzielona modulo (``%``) przez 2 ma resztę równą 0\n",
    "1. Wypisz ``result``\n",
    "1. Nie używaj instrukcji ``if``\n",
    "\n",
    "Podpowiedź:\n",
    "* ``%`` ma inne znaczenie dla ``int`` i ``str``"
   ]
  },
  {
   "cell_type": "code",
   "execution_count": 7,
   "id": "revolutionary-today",
   "metadata": {},
   "outputs": [
    {
     "name": "stdout",
     "output_type": "stream",
     "text": [
      "Podaj liczbę: 99\n",
      "False\n"
     ]
    }
   ],
   "source": [
    "number = input('Podaj liczbę: ')\n",
    "\n",
    "result = int(number) % 2 == 0\n",
    "\n",
    "print(result)    "
   ]
  },
  {
   "cell_type": "markdown",
   "id": "danish-output",
   "metadata": {},
   "source": [
    "## Conditional Statements\n",
    "\n",
    "1. Poproś użytkownika o wprowadzenie swojego wieku\n",
    "1. Użytkownika poda tylko poprawne ``int``\n",
    "1. Wypisz czy użytkownik jest pełnoletni"
   ]
  },
  {
   "cell_type": "code",
   "execution_count": 18,
   "id": "provincial-writing",
   "metadata": {},
   "outputs": [
    {
     "name": "stdout",
     "output_type": "stream",
     "text": [
      "Podaj wiek: 19\n",
      "adult\n"
     ]
    }
   ],
   "source": [
    "age = int(input('Podaj wiek: '))\n",
    "\n",
    "\n",
    "if age >= 18:\n",
    "    print('adult')\n",
    "else:\n",
    "    print('infant')"
   ]
  },
  {
   "cell_type": "code",
   "execution_count": 19,
   "id": "lonely-diversity",
   "metadata": {},
   "outputs": [
    {
     "name": "stdout",
     "output_type": "stream",
     "text": [
      "Podaj wiek: 18\n",
      "Pełnoletni\n"
     ]
    }
   ],
   "source": [
    "WIEK_PELNOLETNOSCI = 18\n",
    "\n",
    "wiek = input('Podaj wiek: ')\n",
    "\n",
    "if int(wiek) >= WIEK_PELNOLETNOSCI:\n",
    "    print('Pełnoletni')\n",
    "else:\n",
    "    print('Niepełnoletni')"
   ]
  },
  {
   "cell_type": "markdown",
   "id": "usual-alabama",
   "metadata": {},
   "source": [
    "## Conditional Expression\n",
    "\n",
    "1. Użyj danych z sekcji \"Input\" (patrz poniżej)\n",
    "1. Tabela zawiera klasyfikację ciśnienia krwi wg American Heart Association :cite:`Whelton2018`\n",
    "1. Użytkownik wprowadza ciśnienie krwi w formacie ``XXX/YY`` lub ``XXX/YYY``\n",
    "1. Użytkownik nie będzie próbował wprowadzać danych niepoprawnych\n",
    "1. Format danych:\n",
    "\n",
    "    * ``XXX: int`` to wartość ciśnienia skurczowego (ang. *systolic*)\n",
    "    * ``YY: int`` lub ``YYY: int`` to wartość ciśnienia rozkurczowego (ang. *diastolic*)\n",
    "\n",
    "1. Wypisz status wprowadzonego ciśnienia krwi\n",
    "1. Gdy wartości ciśnienia skurczowego i rozkurczowego należą do różnych kategorii, przyjmij gorszy przypadek\n",
    "\n",
    "|Blood Pressure Category|Systolic [mm Hg]|Operator|Diastolic [mm Hg]|\n",
    "|-----------------------|----------------|--------|-----------------|\n",
    "|Normal                 |Less than 120   |and     |Less than 80     |\n",
    "|Elevated               |120-129         |and     |Less than 80     |\n",
    "|Hypertension stage 1   |130-139         |or      |80-89            |\n",
    "|Hypertension stage 2   |140 or higher   |or      |90 or higher     |\n",
    "|Hypertensive Crisis    |Higher than 180 |and/or  |Higher than 120  |\n",
    "\n",
    "Sprawdź:\n",
    "\n",
    "|Sys/Dia  | Status                                           |\n",
    "|---------|:-------------------------------------------------|\n",
    "|119/79   | 'Normal'                                         |\n",
    "|120/80   | 'Hypertension stage 1'                           |\n",
    "|121/79   | 'Elevated'                                       |\n",
    "|120/81   | 'Hypertension stage 1'                           |\n",
    "|130/80   | 'Hypertension stage 1'                           |\n",
    "|130/89   | 'Hypertension stage 1'                           |\n",
    "|140/85   | 'Hypertension stage 2'                           |\n",
    "|140/89   | 'Hypertension stage 2'                           |\n",
    "|141/90   | 'Hypertension stage 2'                           |\n",
    "|141/91   | 'Hypertension stage 2'                           |\n",
    "|180/120  | ('Hypertension stage 2', 'Hypertensive Crisis')  |"
   ]
  },
  {
   "cell_type": "code",
   "execution_count": 40,
   "id": "wanted-investment",
   "metadata": {},
   "outputs": [
    {
     "name": "stdout",
     "output_type": "stream",
     "text": [
      "Wprowadź ciśnienie: 130/121\n"
     ]
    },
    {
     "data": {
      "text/plain": [
       "['Hypertension stage 1', 'Hypertensive Crisis']"
      ]
     },
     "execution_count": 40,
     "metadata": {},
     "output_type": "execute_result"
    }
   ],
   "source": [
    "bp = input('Wprowadź ciśnienie: ')\n",
    "\n",
    "sys, dia = bp.split('/')\n",
    "sys = int(sys)\n",
    "dia = int(dia)\n",
    "\n",
    "result = []\n",
    "\n",
    "if sys < 120 and dia < 80:\n",
    "    result.append('Normal')\n",
    "elif 120 <= sys <= 129 and dia < 80:\n",
    "    result.append('Elevated')\n",
    "elif 130 <= sys <= 139 or 80 <= dia <=89:\n",
    "    result.append('Hypertension stage 1')\n",
    "elif 140 <= sys or 90 <= dia:\n",
    "    result.append('Hypertension stage 2')\n",
    "\n",
    "if sys > 180 or dia > 120:\n",
    "    result.append('Hypertensive Crisis')\n",
    "    \n",
    "result"
   ]
  },
  {
   "cell_type": "markdown",
   "id": "absent-sound",
   "metadata": {},
   "source": [
    "## Exception Example\n",
    "\n",
    "1. Poproś użytkownika o wprowadzenie kąta\n",
    "1. Cotangens dla konta 180 ma nieskończoną wartość\n",
    "1. Jeżeli użytkownik wprowadził kąt równy 180, podnieś `ValueError`"
   ]
  },
  {
   "cell_type": "code",
   "execution_count": 46,
   "id": "according-tennis",
   "metadata": {},
   "outputs": [
    {
     "name": "stdout",
     "output_type": "stream",
     "text": [
      "Wprowadź kąt: 180\n"
     ]
    },
    {
     "ename": "ValueError",
     "evalue": "Cotangens dla konta 180 ma nieskończoną wartość",
     "output_type": "error",
     "traceback": [
      "\u001b[1;31m---------------------------------------------------------------------------\u001b[0m",
      "\u001b[1;31mValueError\u001b[0m                                Traceback (most recent call last)",
      "\u001b[1;32m<ipython-input-46-2533d991e55e>\u001b[0m in \u001b[0;36m<module>\u001b[1;34m\u001b[0m\n\u001b[0;32m      2\u001b[0m \u001b[1;33m\u001b[0m\u001b[0m\n\u001b[0;32m      3\u001b[0m \u001b[1;32mif\u001b[0m \u001b[0mfloat\u001b[0m\u001b[1;33m(\u001b[0m\u001b[0mangle\u001b[0m\u001b[1;33m)\u001b[0m \u001b[1;33m==\u001b[0m \u001b[1;36m180\u001b[0m\u001b[1;33m:\u001b[0m\u001b[1;33m\u001b[0m\u001b[1;33m\u001b[0m\u001b[0m\n\u001b[1;32m----> 4\u001b[1;33m     \u001b[1;32mraise\u001b[0m \u001b[0mValueError\u001b[0m\u001b[1;33m(\u001b[0m\u001b[1;34m'Cotangens dla konta 180 ma nieskończoną wartość'\u001b[0m\u001b[1;33m)\u001b[0m\u001b[1;33m\u001b[0m\u001b[1;33m\u001b[0m\u001b[0m\n\u001b[0m",
      "\u001b[1;31mValueError\u001b[0m: Cotangens dla konta 180 ma nieskończoną wartość"
     ]
    }
   ],
   "source": [
    "angle = input('Wprowadź kąt: ')\n",
    "\n",
    "if float(angle) == 180:\n",
    "    raise ValueError('Cotangens dla konta 180 ma nieskończoną wartość')"
   ]
  },
  {
   "cell_type": "markdown",
   "id": "owned-links",
   "metadata": {},
   "source": [
    "## Exception Raise\n",
    "1. Poproś użytkownika o wprowadzenie wieku\n",
    "1. Jeżeli użytkownik ma mniej niż 18 lat\n",
    "1. Wyrzuć wyjątek ``PermissionError`` z komunikatem \"Adults only\""
   ]
  },
  {
   "cell_type": "code",
   "execution_count": 49,
   "id": "eight-colombia",
   "metadata": {},
   "outputs": [
    {
     "name": "stdout",
     "output_type": "stream",
     "text": [
      "Podaj wiek: 12.3\n"
     ]
    },
    {
     "ename": "PermissionError",
     "evalue": "Adults only",
     "output_type": "error",
     "traceback": [
      "\u001b[1;31m---------------------------------------------------------------------------\u001b[0m",
      "\u001b[1;31mPermissionError\u001b[0m                           Traceback (most recent call last)",
      "\u001b[1;32m<ipython-input-49-59db0d5dd769>\u001b[0m in \u001b[0;36m<module>\u001b[1;34m\u001b[0m\n\u001b[0;32m      2\u001b[0m \u001b[1;33m\u001b[0m\u001b[0m\n\u001b[0;32m      3\u001b[0m \u001b[1;32mif\u001b[0m \u001b[0mfloat\u001b[0m\u001b[1;33m(\u001b[0m\u001b[0mage\u001b[0m\u001b[1;33m)\u001b[0m \u001b[1;33m<\u001b[0m \u001b[1;36m18\u001b[0m\u001b[1;33m:\u001b[0m\u001b[1;33m\u001b[0m\u001b[1;33m\u001b[0m\u001b[0m\n\u001b[1;32m----> 4\u001b[1;33m     \u001b[1;32mraise\u001b[0m \u001b[0mPermissionError\u001b[0m\u001b[1;33m(\u001b[0m\u001b[1;34m\"Adults only\"\u001b[0m\u001b[1;33m)\u001b[0m\u001b[1;33m\u001b[0m\u001b[1;33m\u001b[0m\u001b[0m\n\u001b[0m",
      "\u001b[1;31mPermissionError\u001b[0m: Adults only"
     ]
    }
   ],
   "source": [
    "age = input('Podaj wiek: ')\n",
    "\n",
    "if float(age) < 18:\n",
    "    raise PermissionError(\"Adults only\")"
   ]
  },
  {
   "cell_type": "markdown",
   "id": "competitive-judge",
   "metadata": {},
   "source": [
    "## Exception Catch\n",
    "\n",
    "1. Poproś użytkownika o wprowadzenie temperatury w Kelwinach\n",
    "1. Użytkownik zawsze poda poprawne ``int`` lub ``float``\n",
    "1. Podnieś `ValueError` jeżeli temperatura jest poniżej 0"
   ]
  },
  {
   "cell_type": "code",
   "execution_count": 54,
   "id": "wireless-trader",
   "metadata": {},
   "outputs": [
    {
     "name": "stdout",
     "output_type": "stream",
     "text": [
      "Podaj temperaturę w K: 0\n"
     ]
    }
   ],
   "source": [
    "temp = input('Podaj temperaturę w K: ')\n",
    "\n",
    "if float(temp) < 0:\n",
    "    raise ValueError('Kelwiny nie mogą być mniejsze niż zero')"
   ]
  },
  {
   "cell_type": "markdown",
   "id": "happy-terry",
   "metadata": {},
   "source": [
    "## Exception Multi\n",
    "\n",
    "1. Poproś użytkownika o wprowadzenie temperatury w Kelwinach\n",
    "1. Przekonwertuj temperaturę do `int`\n",
    "1. Jeżeli nie można rzutować do ``int``, to wypisz \"Invalid int\" i spróbubuj przekonwertować do `float`\n",
    "1. Jeżeli nie można rzutować do ``float``, to wypisz \"Invalid temperature\" i wyjdź z kodem błędu 1\n",
    "1. Wypisz temperaturę"
   ]
  },
  {
   "cell_type": "code",
   "execution_count": 13,
   "id": "structural-breakfast",
   "metadata": {},
   "outputs": [
    {
     "name": "stdout",
     "output_type": "stream",
     "text": [
      "Podaj temperaturę w K: d\n",
      "Invalid int\n",
      "Invalid temperature\n",
      "d\n"
     ]
    }
   ],
   "source": [
    "temp = input('Podaj temperaturę w K: ')\n",
    "\n",
    "try:\n",
    "    temp = int(temp)\n",
    "except ValueError:\n",
    "    print('Invalid int')\n",
    "    try:\n",
    "        temp = float(temp)\n",
    "    except ValueError:\n",
    "        print('Invalid temperature')\n",
    "        exit(1)\n",
    "        \n",
    "print(temp)"
   ]
  },
  {
   "cell_type": "code",
   "execution_count": null,
   "id": "european-check",
   "metadata": {},
   "outputs": [],
   "source": []
  }
 ],
 "metadata": {
  "kernelspec": {
   "display_name": "Python 3",
   "language": "python",
   "name": "python3"
  },
  "language_info": {
   "codemirror_mode": {
    "name": "ipython",
    "version": 3
   },
   "file_extension": ".py",
   "mimetype": "text/x-python",
   "name": "python",
   "nbconvert_exporter": "python",
   "pygments_lexer": "ipython3",
   "version": "3.9.2"
  }
 },
 "nbformat": 4,
 "nbformat_minor": 5
}
