{
 "cells": [
  {
   "cell_type": "markdown",
   "id": "packed-dressing",
   "metadata": {},
   "source": [
    "# Python: Typy numeryczne - zadania"
   ]
  },
  {
   "cell_type": "markdown",
   "id": "excellent-antigua",
   "metadata": {},
   "source": [
    "## Type Int Time"
   ]
  },
  {
   "cell_type": "markdown",
   "id": "intended-hamburg",
   "metadata": {},
   "source": [
    "1. Oblicz ile sekund to pięć minut\n",
    "2. Oblicz ile sekund to jedna godzina\n",
    "3. Oblicz ile sekund to dzień pracy (8 godzin)\n",
    "4. Oblicz ile godzin to miesiąc pracy (22 dni pracy)\n",
    "5. Oblicz ile minut to tydzień pracy (5 dni pracy)"
   ]
  },
  {
   "cell_type": "code",
   "execution_count": 4,
   "id": "endless-jaguar",
   "metadata": {},
   "outputs": [
    {
     "name": "stdout",
     "output_type": "stream",
     "text": [
      "5 minut to 300.0 sekund\n",
      "1 godzina to 3600.0 sekund\n",
      "8 godzin to 28800.0 sekund\n",
      "Miesiąc pracy to 176.0 godzin\n",
      "Tydzień pracy to 2400.0 minut\n"
     ]
    }
   ],
   "source": [
    "SECOND = 1\n",
    "MINUTE = SECOND * 60\n",
    "HOUR = MINUTE * 60\n",
    "\n",
    "five = 5 * MINUTE / SECOND\n",
    "hour = HOUR / SECOND\n",
    "workday = 8 * HOUR / SECOND\n",
    "workmonth = 22 * workday / HOUR\n",
    "workweek = 5 * workday / MINUTE\n",
    "\n",
    "print(f'5 minut to {five} sekund')\n",
    "print(f'1 godzina to {hour} sekund')\n",
    "print(f'8 godzin to {workday} sekund')\n",
    "print(f'Miesiąc pracy to {workmonth} godzin')\n",
    "print(f'Tydzień pracy to {workweek} minut')"
   ]
  },
  {
   "cell_type": "markdown",
   "id": "bulgarian-spread",
   "metadata": {},
   "source": [
    "# Type Int Bytes"
   ]
  },
  {
   "cell_type": "markdown",
   "id": "necessary-integration",
   "metadata": {},
   "source": [
    "1. Wielkość pliku to jeden megabajt\n",
    "2. Oblicz wielkość w bitach\n",
    "3. Oblicz wielkość w megabitach"
   ]
  },
  {
   "cell_type": "markdown",
   "id": "positive-assumption",
   "metadata": {},
   "source": [
    "Podpowiedź:"
   ]
  },
  {
   "cell_type": "markdown",
   "id": "above-square",
   "metadata": {},
   "source": [
    "- 1 Kb = 1024 b\n",
    "- 1 Mb = 1024 Kb\n",
    "- 1 B = 8 b\n",
    "- 1 KB = 1024 B\n",
    "- 1 MB = 1024 KB"
   ]
  },
  {
   "cell_type": "code",
   "execution_count": 13,
   "id": "hundred-saying",
   "metadata": {},
   "outputs": [
    {
     "name": "stdout",
     "output_type": "stream",
     "text": [
      "Wielkość pliku to 8388608 bitów\n",
      "Wielkość pliku to 8.0 megabitów\n"
     ]
    }
   ],
   "source": [
    "b = 1\n",
    "Kb = 1024 * b\n",
    "Mb = 1024 * Kb\n",
    "B = 8 * b\n",
    "KB = 1024 * B\n",
    "MB = 1024 * KB\n",
    "\n",
    "plik_b = MB\n",
    "plik_Mb = MB / Mb\n",
    "\n",
    "print(f'Wielkość pliku to {plik_b} bitów')\n",
    "print(f'Wielkość pliku to {plik_Mb} megabitów')"
   ]
  },
  {
   "cell_type": "markdown",
   "id": "engaged-washer",
   "metadata": {},
   "source": [
    "# Type Int Bandwidth"
   ]
  },
  {
   "cell_type": "markdown",
   "id": "complete-catholic",
   "metadata": {},
   "source": [
    "1. Mając łącze internetowe \"do 100 Mb/s\"\n",
    "2. Ile zajmie ściągnięcie pliku 100 MB?"
   ]
  },
  {
   "cell_type": "code",
   "execution_count": 16,
   "id": "according-academy",
   "metadata": {},
   "outputs": [
    {
     "name": "stdout",
     "output_type": "stream",
     "text": [
      "Ściągnięcie pliku 100 MB zajmie 8.0 sekund\n"
     ]
    }
   ],
   "source": [
    "bandwidth_s = 100 * Mb\n",
    "download_100MB = (100 * MB) / bandwidth_s\n",
    "\n",
    "print(f'Ściągnięcie pliku 100 MB zajmie {download_100MB} sekund')"
   ]
  },
  {
   "cell_type": "code",
   "execution_count": 17,
   "id": "opponent-hotel",
   "metadata": {},
   "outputs": [
    {
     "name": "stdout",
     "output_type": "stream",
     "text": [
      "Czas ściągania to 8.0 sek.\n"
     ]
    }
   ],
   "source": [
    "SEC = 1\n",
    "\n",
    "predkosc = 100 * Mb / SEC\n",
    "plik = 100 * MB\n",
    "\n",
    "czas = plik / predkosc\n",
    "\n",
    "print(f'Czas ściągania to {czas} sek.')"
   ]
  },
  {
   "cell_type": "markdown",
   "id": "subject-relationship",
   "metadata": {},
   "source": [
    "# Type Int Temperature"
   ]
  },
  {
   "cell_type": "markdown",
   "id": "social-perspective",
   "metadata": {},
   "source": [
    "1. Jeden Kelwin to jeden stopień Celsiusza (1K = 1°C)\n",
    "2. Zero Kelwina (bezwzględne) to -273.15 stopni Celsiusza\n",
    "3. W zadaniu przyjmij równe -273°C (0K = -273°C)\n",
    "4. Ile Kelwinów, a ile stopni Celsiusza wynoszą średnie temperatury powierzchni:"
   ]
  },
  {
   "cell_type": "markdown",
   "id": "billion-bubble",
   "metadata": {},
   "source": [
    "- Księżyca w dzień: 453 K\n",
    "- Księżyca w nocy: 93 K\n",
    "- Mars najwyższa: 20 °C\n",
    "- Mars najniższa: -153 °C\n",
    "- Mars średnia: −63 °C"
   ]
  },
  {
   "cell_type": "code",
   "execution_count": 22,
   "id": "viral-infrared",
   "metadata": {},
   "outputs": [
    {
     "name": "stdout",
     "output_type": "stream",
     "text": [
      "Księżyc dzień 180 °C\n",
      "Księżyc noc -180 °C\n",
      "Mars najwyższa 293 K\n",
      "Mars najniższa 120 K\n",
      "Mars średnia 210 K\n"
     ]
    }
   ],
   "source": [
    "K = -273\n",
    "C = +273\n",
    "\n",
    "moon_day = 453 + K\n",
    "moon_night = 93 + K\n",
    "mars_high = 20 + C\n",
    "mars_low = -153 + C\n",
    "mars_mean = -63 + C\n",
    "\n",
    "print(f'Księżyc dzień {moon_day} °C')\n",
    "print(f'Księżyc noc {moon_night} °C')\n",
    "print(f'Mars najwyższa {mars_high} K')\n",
    "print(f'Mars najniższa {mars_low} K')\n",
    "print(f'Mars średnia {mars_mean} K')"
   ]
  },
  {
   "cell_type": "markdown",
   "id": "afraid-detector",
   "metadata": {},
   "source": [
    "# Type Float Tax"
   ]
  },
  {
   "cell_type": "markdown",
   "id": "correct-auction",
   "metadata": {},
   "source": [
    "1. Cena usługi wynosi 100 PLN netto\n",
    "2. Usługa objęta jest 23% stawką VAT\n",
    "3. Oblicz wartości podatku oraz cenę brutto"
   ]
  },
  {
   "cell_type": "markdown",
   "id": "harmful-still",
   "metadata": {},
   "source": [
    "Output:"
   ]
  },
  {
   "cell_type": "markdown",
   "id": "collaborative-naples",
   "metadata": {},
   "source": [
    "Result [PLN]: net=100 tax=23.0 gross=123.0"
   ]
  },
  {
   "cell_type": "code",
   "execution_count": 28,
   "id": "sustained-leader",
   "metadata": {},
   "outputs": [
    {
     "name": "stdout",
     "output_type": "stream",
     "text": [
      "Result [PLN]: net=100 tax=23.0 gross=123.0\n"
     ]
    }
   ],
   "source": [
    "    \n",
    "PLN = 1\n",
    "cena = 100 * PLN\n",
    "vat = 23 / 100  # procent\n",
    "\n",
    "net = cena\n",
    "tax = cena * vat\n",
    "gross = cena * (1+vat)\n",
    "\n",
    "print(f'Result [PLN]: {net=} {tax=} {gross=}')"
   ]
  },
  {
   "cell_type": "markdown",
   "id": "educational-inventory",
   "metadata": {},
   "source": [
    "# Type Float Altitude"
   ]
  },
  {
   "cell_type": "markdown",
   "id": "thrown-blogger",
   "metadata": {},
   "source": [
    "1. Wysokość lotu samolotem wynosi 10 000 ft\n",
    "2. Dane używają systemu imperialnego (US)\n",
    "3. Przelicz je na system metryczny (układ SI)\n",
    "4. Wynik zaokrąglij do jednego miejsca po przecinku\n",
    "5. Porównaj wyniki z sekcją \"Output\" (patrz poniżej)"
   ]
  },
  {
   "cell_type": "markdown",
   "id": "wrong-actor",
   "metadata": {},
   "source": [
    "Output:"
   ]
  },
  {
   "cell_type": "markdown",
   "id": "quick-quarterly",
   "metadata": {},
   "source": [
    "Plane altitude: 3048.0 m"
   ]
  },
  {
   "cell_type": "markdown",
   "id": "intensive-laugh",
   "metadata": {},
   "source": [
    "Podpowiedź:"
   ]
  },
  {
   "cell_type": "markdown",
   "id": "level-density",
   "metadata": {},
   "source": [
    "- 1 ft = 0.3048 m"
   ]
  },
  {
   "cell_type": "code",
   "execution_count": 31,
   "id": "weird-person",
   "metadata": {},
   "outputs": [
    {
     "name": "stdout",
     "output_type": "stream",
     "text": [
      "Plane altitude: 3048.0 m\n"
     ]
    }
   ],
   "source": [
    "m = 1\n",
    "ft = 0.3048 * m\n",
    "\n",
    "alt = 10000 * ft\n",
    "\n",
    "print(f'Plane altitude: {alt} m')"
   ]
  },
  {
   "cell_type": "markdown",
   "id": "geographic-warren",
   "metadata": {},
   "source": [
    "# Type Float Volume"
   ]
  },
  {
   "cell_type": "markdown",
   "id": "satisfied-courage",
   "metadata": {},
   "source": [
    "1. Objętość butelki wynosi 20 Fl Oz\n",
    "2. Dane używają systemu imperialnego (US)\n",
    "3. Przelicz je na system metryczny (układ SI)\n",
    "4. Porównaj wyniki z sekcją \"Output\" (patrz poniżej)"
   ]
  },
  {
   "cell_type": "markdown",
   "id": "romantic-velvet",
   "metadata": {},
   "source": [
    "Output:\n",
    "\n",
    "    Bottle volume: 0.5914688 l"
   ]
  },
  {
   "cell_type": "markdown",
   "id": "returning-timing",
   "metadata": {},
   "source": [
    "Podpowiedź:\n",
    "\n",
    "- 1 Fl Oz = 0.02957344 l"
   ]
  },
  {
   "cell_type": "code",
   "execution_count": 34,
   "id": "vulnerable-fight",
   "metadata": {},
   "outputs": [
    {
     "name": "stdout",
     "output_type": "stream",
     "text": [
      "Objętość butelki wynosi 0.5914688 l\n"
     ]
    }
   ],
   "source": [
    "l = 1\n",
    "Oz = 0.02957344 * l\n",
    "\n",
    "bulk = 20 * Oz\n",
    "\n",
    "print(f'Objętość butelki wynosi {bulk} l')"
   ]
  },
  {
   "cell_type": "markdown",
   "id": "serious-fantasy",
   "metadata": {},
   "source": [
    "# Type Float Distance"
   ]
  },
  {
   "cell_type": "markdown",
   "id": "filled-notice",
   "metadata": {},
   "source": [
    "1. Użyj kodu z sekcji \"Input\" (patrz poniżej)\n",
    "2. Przekonwertuj jednostki\n",
    "3. Zamiast ... podstaw wyliczone i przekonwertowane wartości\n",
    "4. Zwróć uwagę na ilość miejsc po przecinku\n",
    "5. Porównaj wyniki z sekcją \"Output\" (patrz poniżej)"
   ]
  },
  {
   "cell_type": "markdown",
   "id": "little-underwear",
   "metadata": {},
   "source": [
    "Input:\n",
    "\n",
    "    m = 1337\n",
    "\n",
    "    print(f'Meters: {...}')\n",
    "    print(f'Kilometers: {...}')\n",
    "    print(f'Miles: {...}')\n",
    "    print(f'Nautical Miles: {...}')\n",
    "    print(f'All: km: {...}, mi: {...}, nm: {...}')\n",
    "Output:\n",
    "\n",
    "    Meters: 1337\n",
    "    Kilometers: 1.337\n",
    "    Miles: 0.83\n",
    "    Nautical Miles: 0.722\n",
    "    m: 1337, km: 1, mi: 0.8, nm: 0.72\n",
    "Podpowiedź:\n",
    "\n",
    "    1 km = 1000 m\n",
    "    1 mile = 1609.344 m\n",
    "    1 nautical mile = 1852 m"
   ]
  },
  {
   "cell_type": "code",
   "execution_count": 48,
   "id": "controlled-variety",
   "metadata": {},
   "outputs": [
    {
     "name": "stdout",
     "output_type": "stream",
     "text": [
      "Meters: 1337\n",
      "Kilometers: 1.337\n",
      "Miles: 0.83\n",
      "Nautical Miles: 0.722\n",
      "All: km: 1337, mi: 0.8, nm: 0.72\n"
     ]
    }
   ],
   "source": [
    "m = 1337\n",
    "km = m / 1000\n",
    "mi = m / 1609.344\n",
    "nm = m / 1852\n",
    "\n",
    "print(f'Meters: {m}')\n",
    "print(f'Kilometers: {km}')\n",
    "print(f'Miles: {mi:.02f}')\n",
    "print(f'Nautical Miles: {nm:.03f}')\n",
    "print(f'All: km: {m}, mi: {mi:.01f}, nm: {nm:.02f}')"
   ]
  },
  {
   "cell_type": "markdown",
   "id": "basic-chair",
   "metadata": {},
   "source": [
    "# Type Float Velocity"
   ]
  },
  {
   "cell_type": "markdown",
   "id": "thermal-courage",
   "metadata": {},
   "source": [
    "1. Ograniczenie prędkości wynosi 75 MPH\n",
    "2. Dane używają systemu imperialnego (US)\n",
    "3. Przelicz je na system metryczny (układ SI)\n",
    "4. Ograniczenie prędkości zaokrąglij do jednego miejsca po przecinku"
   ]
  },
  {
   "cell_type": "code",
   "execution_count": 57,
   "id": "naked-yugoslavia",
   "metadata": {},
   "outputs": [
    {
     "name": "stdout",
     "output_type": "stream",
     "text": [
      "Ograniczenie prędkości wynosi 120.7 km/h\n"
     ]
    }
   ],
   "source": [
    "HOUR = 1\n",
    "m = 1\n",
    "km = 1000 * m\n",
    "mi = 1609.344 * m\n",
    "\n",
    "mph = mi / HOUR\n",
    "kph = km / HOUR\n",
    "\n",
    "sl = 75 * mph\n",
    "\n",
    "print(f'Ograniczenie prędkości wynosi {sl/kph:.01f} km/h')"
   ]
  },
  {
   "cell_type": "markdown",
   "id": "sacred-selling",
   "metadata": {},
   "source": [
    "# Type Float Pressure"
   ]
  },
  {
   "cell_type": "markdown",
   "id": "military-reflection",
   "metadata": {},
   "source": [
    "1. Ciśnienie operacyjne skafandra kosmicznego EMU (NASA): 4.3 PSI\n",
    "2. Ciśnienie operacyjne skafandra kosmicznego ORLAN (Roscosmos): 400 hPa\n",
    "3. Oblicz ciśnienie operacyjne skafandra EMU w kPa\n",
    "4. Oblicz ciśnienie operacyjne skafandra Orlan w PSI\n",
    "5. Wypisz wszystkie wyniki w kPa oraz PSI zaokrąglając do dwóch miejsc po przecinku\n",
    "6. Porównaj wyniki z sekcją \"Output\" (patrz poniżej)"
   ]
  },
  {
   "cell_type": "markdown",
   "id": "endangered-transition",
   "metadata": {},
   "source": [
    "Output:\n",
    "\n",
    "    EMU operating pressure: 29.65 kPa, 4.30 psi\n",
    "    Orlan operating pressure: 40.00 kPa, 5.80 psi\n",
    "Podpowiedź:\n",
    "\n",
    "* 1 hPa = 100 Pa\n",
    "* 1 kPa = 1000 Pa\n",
    "* 1 psi = 6894.757 Pa"
   ]
  },
  {
   "cell_type": "code",
   "execution_count": 63,
   "id": "devoted-ordinary",
   "metadata": {},
   "outputs": [
    {
     "name": "stdout",
     "output_type": "stream",
     "text": [
      "EMU operating pressure: 29.65 kPa, 4.30 psi\n",
      "Orlan operating pressure 40.00 kPa, 5.80 psi\n"
     ]
    }
   ],
   "source": [
    "Pa = 1\n",
    "hPa = 100 * Pa\n",
    "kPa = 1000 * Pa\n",
    "psi = 6894.757 * Pa\n",
    "\n",
    "emu = 4.3 * psi\n",
    "orlan = 400 * hPa\n",
    "\n",
    "print(f'EMU operating pressure: {emu/kPa:.02f} kPa, {emu/psi:.02f} psi')\n",
    "print (f'Orlan operating pressure {orlan/kPa:.02f} kPa, {orlan/psi:.02f} psi')"
   ]
  },
  {
   "cell_type": "markdown",
   "id": "coordinate-position",
   "metadata": {},
   "source": [
    "# Type Float Percent"
   ]
  },
  {
   "cell_type": "markdown",
   "id": "finished-watson",
   "metadata": {},
   "source": [
    "1. International Standard Atmosphere (ISA) na poziomie morza wynosi 1013.25 hPa\n",
    "2. Oblicz ciśnienie parcjalne tlenu na poziomie morza\n",
    "3. Wypisz ISA oraz ciśnienie parcjalne O2 wyniki w kPa zaokrąglając do dwóch miejsc po przecinku\n",
    "4. Porównaj wyniki z sekcją \"Output\" (patrz poniżej)\n",
    "\n",
    "Output:\n",
    "\n",
    "    International Standard Atmosphere: 101.33 kPa\n",
    "    O2 partial pressure at sea level: 21.22 kPa\n",
    "    \n",
    "Podpowiedź:\n",
    "\n",
    "- 1 hPa = 100 Pa\n",
    "- 1 kPa = 1000 Pa\n",
    "- 1 ata = 1013.25 hPa (ISA - International Standard Atmosphere)\n",
    "\n",
    "Skład atmosfery:\n",
    "\n",
    "- Azot 78.084%\n",
    "- Tlen 20.946%\n",
    "- Argon 0.9340%\n",
    "- Dwutlenek węgla 0.0407%\n",
    "- Pozostałe 0.001%"
   ]
  },
  {
   "cell_type": "code",
   "execution_count": 69,
   "id": "military-destruction",
   "metadata": {},
   "outputs": [
    {
     "name": "stdout",
     "output_type": "stream",
     "text": [
      "International Standard Atmosphere: 101.33 kPa\n",
      "O2 partial pressure at sea level: 21.22 kPa\n"
     ]
    }
   ],
   "source": [
    "Pa = 1\n",
    "hPa = 100 * Pa\n",
    "kPa = 1000 * Pa\n",
    "ata = 1013.25 * hPa\n",
    "\n",
    "o2 = 0.20946 * ata\n",
    "\n",
    "print(f'International Standard Atmosphere: {ata/kPa:.02f} kPa')\n",
    "print(f'O2 partial pressure at sea level: {o2/kPa:.02f} kPa')"
   ]
  },
  {
   "cell_type": "markdown",
   "id": "raising-bible",
   "metadata": {},
   "source": [
    "# Type Float Gradient\n",
    "1. Na jakiej wysokości nad poziomem morza panuje ciśnienie równe ciśnieniu parcjalnemu tlenu?\n",
    "2. Wypisz rezultat w metrach zaokrąglając do dwóch miejsc po przecinku\n",
    "3. Porównaj wyniki z sekcją \"Output\" (patrz poniżej)\n",
    "Output:\n",
    "\n",
    "    Oxygen starvation altitude: 7088.63 m\n",
    "    \n",
    "Podpowiedź:\n",
    "\n",
    "- gradient ciśnienia (maleje) = 11.3 Pa / 1 m\n",
    "- 1 hPa = 100 Pa\n",
    "- 1 kPa = 1000 Pa\n",
    "- 1 ata = 1013.25 hPa (ISA - International Standard Atmosphere)\n",
    "\n",
    "Skład atmosfery:\n",
    "\n",
    "* Azot 78.084%\n",
    "* Tlen 20.946%\n",
    "* Argon 0.9340%\n",
    "* Dwutlenek węgla 0.0407%\n",
    "* Pozostałe 0.001%"
   ]
  },
  {
   "cell_type": "code",
   "execution_count": 75,
   "id": "palestinian-astronomy",
   "metadata": {},
   "outputs": [
    {
     "name": "stdout",
     "output_type": "stream",
     "text": [
      "Oxygen starvation altitude: 7088.63 m\n"
     ]
    }
   ],
   "source": [
    "m = 1\n",
    "Pa = 1\n",
    "hPa = 100 * Pa\n",
    "kPa = 1000 * Pa\n",
    "ata = 1013.25 * hPa\n",
    "\n",
    "o2 = 0.20946 * ata\n",
    "gradient = 11.3 * Pa / m\n",
    "\n",
    "height = (ata - o2) / gradient\n",
    "print(f'Oxygen starvation altitude: {height:.02f} m')"
   ]
  }
 ],
 "metadata": {
  "kernelspec": {
   "display_name": "Python 3",
   "language": "python",
   "name": "python3"
  },
  "language_info": {
   "codemirror_mode": {
    "name": "ipython",
    "version": 3
   },
   "file_extension": ".py",
   "mimetype": "text/x-python",
   "name": "python",
   "nbconvert_exporter": "python",
   "pygments_lexer": "ipython3",
   "version": "3.9.2"
  }
 },
 "nbformat": 4,
 "nbformat_minor": 5
}
