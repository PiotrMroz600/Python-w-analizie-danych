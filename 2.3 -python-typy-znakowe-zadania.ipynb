{
 "cells": [
  {
   "cell_type": "markdown",
   "id": "mineral-metadata",
   "metadata": {},
   "source": [
    "# Python: Typ znakowy - zadania\n",
    "## Type String Input"
   ]
  },
  {
   "cell_type": "markdown",
   "id": "voluntary-oakland",
   "metadata": {},
   "source": [
    "1. Poproś użytkownika o wprowadzenie tekstu\n",
    "2. Wypisz liczbę znaków"
   ]
  },
  {
   "cell_type": "code",
   "execution_count": null,
   "id": "centered-citation",
   "metadata": {},
   "outputs": [],
   "source": [
    "text = input('Wprowadź tekst: ')\n",
    "len(text)"
   ]
  },
  {
   "cell_type": "markdown",
   "id": "coordinate-course",
   "metadata": {},
   "source": [
    "## Type String Emoticon\n",
    "\n",
    "1. Poproś użytkownika o wprowadzenie imienia\n",
    "2. Wypisz hello NAME EMOTICON, gdzie:\n",
    "* NAME to imię wczytane od użytkownika\n",
    "* EMOTICON to Unicode Codepoint \"\\U0001F642\""
   ]
  },
  {
   "cell_type": "code",
   "execution_count": null,
   "id": "serious-looking",
   "metadata": {},
   "outputs": [],
   "source": [
    "imie = input('Wprowadź imię: ')\n",
    "print(f'hello {imie} \\U0001F642')"
   ]
  },
  {
   "cell_type": "markdown",
   "id": "prescription-configuration",
   "metadata": {},
   "source": [
    "## Type String Quotes"
   ]
  },
  {
   "cell_type": "markdown",
   "id": "canadian-roommate",
   "metadata": {},
   "source": [
    "1. Poproś użytkownika o wprowadzenie imienia\n",
    "2. Do wypisania użyj f-string formatting\n",
    "3. Zauważ, że druga linijka zaczyna się od tabulacji\n",
    "4. Wartość NAME w podwójnych cudzysłowach to ciąg od użytkownika\n",
    "5. Zwróć uwagę na znaki apostrofów, cudzysłowów, tabulacji i nowych linii\n",
    "6. Nie używaj spacji ani entera - użyj \\n i \\t\n",
    "7. Nie korzystaj z dodawania stringów (str + str)\n",
    "8. Porównaj wyniki z sekcją \"Output\" (patrz poniżej)"
   ]
  },
  {
   "cell_type": "markdown",
   "id": "narrow-gibraltar",
   "metadata": {},
   "source": [
    "Output:"
   ]
  },
  {
   "cell_type": "markdown",
   "id": "overhead-fleece",
   "metadata": {},
   "source": [
    "```\n",
    "'''My name... \"NAME\".\n",
    "\n",
    "    I'm an \"\"\"astronaut!\"\"\"'''\n",
    "```"
   ]
  },
  {
   "cell_type": "code",
   "execution_count": null,
   "id": "charged-creek",
   "metadata": {},
   "outputs": [],
   "source": [
    "imie = input('Podaj imie: ')\n",
    "text = f'\\'\\'\\'My name... \\\"{imie}\\\".\\n\\tI\\'m an \\\"\\\"\\\"astronaut!\\\"\\\"\\\"\\'\\'\\''\n",
    "\n",
    "print(text)"
   ]
  },
  {
   "cell_type": "markdown",
   "id": "unlimited-mozambique",
   "metadata": {},
   "source": [
    "## Type String Normalize"
   ]
  },
  {
   "cell_type": "markdown",
   "id": "dying-provider",
   "metadata": {},
   "source": [
    "1. Dla danego tekstu: UL. jana \\tTWArdoWskIEGO 3\n",
    "2. Wykorzystaj metody str do oczyszczenia\n",
    "3. Oczekiwana wartość Jana Twardowskiego III"
   ]
  },
  {
   "cell_type": "code",
   "execution_count": 6,
   "id": "attempted-analysis",
   "metadata": {},
   "outputs": [
    {
     "data": {
      "text/plain": [
       "(True, 'Jana Twardowskiego III')"
      ]
     },
     "execution_count": 6,
     "metadata": {},
     "output_type": "execute_result"
    }
   ],
   "source": [
    "text = 'UL. jana \\tTWArdoWskIEGO 3'\n",
    "expected = 'Jana Twardowskiego III'\n",
    "\n",
    "text = text.upper()\n",
    "text = text.replace('\\t', '')\n",
    "text = text.replace('.', '')\n",
    "text = text.replace('UL', '')\n",
    "text = text.title()\n",
    "text = text.replace('3', 'III')\n",
    "text = text.strip()\n",
    "\n",
    "expected == text, text"
   ]
  },
  {
   "cell_type": "markdown",
   "id": "guided-venture",
   "metadata": {},
   "source": [
    "## Type String Clean\n",
    "1. Użyj danych z sekcji \"Input\" (patrz poniżej)\n",
    "2. Oczekiwana wartość Jana III Sobieskiego\n",
    "3. Wykorzystaj tylko metody str do oczyszczenia każdej zmiennej\n",
    "4. Przeprowadź dyskusję jak zrobić rozwiązanie generyczne pasujące do wszystkich przypadków\n",
    "5. Implementacja takiej generycznej funkcji będzie w rozdziale :ref:Cleaning text input\n",
    "6. Porównaj wyniki z sekcją \"Output\" (patrz poniżej)"
   ]
  },
  {
   "cell_type": "markdown",
   "id": "banner-stability",
   "metadata": {},
   "source": [
    "Input:\n",
    "```\n",
    "a = 'ul Jana III SobIESkiego'\n",
    "b = '\\tul. Jana trzeciego Sobieskiego'\n",
    "c = 'ulicaJana III Sobieskiego'\n",
    "d = 'UL. JANA 3 \\nSOBIESKIEGO'\n",
    "e = 'UL. jana III SOBiesKIEGO'\n",
    "f = 'ULICA JANA III SOBIESKIEGO  '\n",
    "g = 'ULICA. JANA III SOBIeskieGO'\n",
    "h = ' Jana 3 Sobieskiego  '\n",
    "i = 'Jana III Sobi\\teskiego '\n",
    "\n",
    "a = a.replace('ul', '').title().replace('Iii', 'III').strip()\n",
    "b = b\n",
    "c = c\n",
    "d = d\n",
    "e = e\n",
    "f = f\n",
    "g = g\n",
    "h = h\n",
    "i = i\n",
    "\n",
    "expected = 'Jana III Sobieskiego'\n",
    "\n",
    "print(f'{a == expected}\\ta = \"{a}\"')\n",
    "print(f'{b == expected}\\tb = \"{b}\"')\n",
    "print(f'{c == expected}\\tc = \"{c}\"')\n",
    "print(f'{d == expected}\\td = \"{d}\"')\n",
    "print(f'{e == expected}\\te = \"{e}\"')\n",
    "print(f'{f == expected}\\tf = \"{f}\"')\n",
    "print(f'{g == expected}\\tg = \"{g}\"')\n",
    "print(f'{h == expected}\\th = \"{h}\"')\n",
    "print(f'{i == expected}\\ti = \"{i}\"')\n",
    "```\n",
    "\n",
    "Output:\n",
    "```\n",
    "True\ta = \"Jana III Sobieskiego\"\n",
    "True\tb = \"Jana III Sobieskiego\"\n",
    "True\tc = \"Jana III Sobieskiego\"\n",
    "True\td = \"Jana III Sobieskiego\"\n",
    "True\te = \"Jana III Sobieskiego\"\n",
    "True\tf = \"Jana III Sobieskiego\"\n",
    "True\tg = \"Jana III Sobieskiego\"\n",
    "True\th = \"Jana III Sobieskiego\"\n",
    "True\ti = \"Jana III Sobieskiego\"\n",
    "```"
   ]
  },
  {
   "cell_type": "code",
   "execution_count": 22,
   "id": "dependent-green",
   "metadata": {},
   "outputs": [
    {
     "name": "stdout",
     "output_type": "stream",
     "text": [
      "True\ta = \"Jana III Sobieskiego\"\n",
      "True\tb = \"Jana III Sobieskiego\"\n",
      "True\tc = \"Jana III Sobieskiego\"\n",
      "True\td = \"Jana III Sobieskiego\"\n",
      "True\te = \"Jana III Sobieskiego\"\n",
      "True\tf = \"Jana III Sobieskiego\"\n",
      "True\tg = \"Jana III Sobieskiego\"\n",
      "True\th = \"Jana III Sobieskiego\"\n",
      "True\ti = \"Jana III Sobieskiego\"\n"
     ]
    }
   ],
   "source": [
    "a = 'ul Jana III SobIESkiego'\n",
    "b = '\\tul. Jana trzeciego Sobieskiego'\n",
    "c = 'ulicaJana III Sobieskiego'\n",
    "d = 'UL. JANA 3 \\nSOBIESKIEGO'\n",
    "e = 'UL. jana III SOBiesKIEGO'\n",
    "f = 'ULICA JANA III SOBIESKIEGO  '\n",
    "g = 'ULICA. JANA III SOBIeskieGO'\n",
    "h = ' Jana 3 Sobieskiego  '\n",
    "i = 'Jana III Sobi\\teskiego '\n",
    "\n",
    "a = a.replace('ul', '').title().replace('Iii', 'III').strip()\n",
    "b = b.replace('\\tul.', '').replace('trzeciego', 'III').strip()\n",
    "c = c.replace('ulica', '')\n",
    "d = d.replace('UL.', '').replace('\\n', '').title().replace('3', 'III').strip()\n",
    "e = e.replace('UL.', '').title().replace('Iii', 'III').strip()\n",
    "f = f.replace('ULICA', '').title().replace('Iii', 'III').strip()\n",
    "g = g.replace('ULICA.', '').title().replace('Iii', 'III').strip()\n",
    "h = h.replace('3', 'III').strip()\n",
    "i = i.replace('\\t', '').strip()\n",
    "\n",
    "expected = 'Jana III Sobieskiego'\n",
    "\n",
    "print(f'{a == expected}\\ta = \"{a}\"')\n",
    "print(f'{b == expected}\\tb = \"{b}\"')\n",
    "print(f'{c == expected}\\tc = \"{c}\"')\n",
    "print(f'{d == expected}\\td = \"{d}\"')\n",
    "print(f'{e == expected}\\te = \"{e}\"')\n",
    "print(f'{f == expected}\\tf = \"{f}\"')\n",
    "print(f'{g == expected}\\tg = \"{g}\"')\n",
    "print(f'{h == expected}\\th = \"{h}\"')\n",
    "print(f'{i == expected}\\ti = \"{i}\"')"
   ]
  },
  {
   "cell_type": "code",
   "execution_count": 23,
   "id": "quantitative-responsibility",
   "metadata": {},
   "outputs": [
    {
     "name": "stdout",
     "output_type": "stream",
     "text": [
      "True\ta = \"Jana III Sobieskiego\"\n",
      "True\tb = \"Jana III Sobieskiego\"\n",
      "True\tc = \"Jana III Sobieskiego\"\n",
      "True\td = \"Jana III Sobieskiego\"\n",
      "True\te = \"Jana III Sobieskiego\"\n",
      "True\tf = \"Jana III Sobieskiego\"\n",
      "True\tg = \"Jana III Sobieskiego\"\n",
      "True\th = \"Jana III Sobieskiego\"\n",
      "True\ti = \"Jana III Sobieskiego\"\n"
     ]
    }
   ],
   "source": [
    "a = 'ul Jana III SobIESkiego'\n",
    "b = '\\tul. Jana trzeciego Sobieskiego'\n",
    "c = 'ulicaJana III Sobieskiego'\n",
    "d = 'UL. JANA 3 \\nSOBIESKIEGO'\n",
    "e = 'UL. jana III SOBiesKIEGO'\n",
    "f = 'ULICA JANA III SOBIESKIEGO  '\n",
    "g = 'ULICA. JANA III SOBIeskieGO'\n",
    "h = ' Jana 3 Sobieskiego  '\n",
    "i = 'Jana III Sobi\\teskiego '\n",
    "\n",
    "a = a.upper().replace('\\t', '').replace('\\n', '').replace('.', '').replace('ULICA', '').replace('UL', '').title().strip().replace('Iii', 'III').replace('3', 'III').replace('Trzeciego', 'III')\n",
    "b = b.upper().replace('\\t', '').replace('\\n', '').replace('.', '').replace('ULICA', '').replace('UL', '').title().strip().replace('Iii', 'III').replace('3', 'III').replace('Trzeciego', 'III')\n",
    "c = c.upper().replace('\\t', '').replace('\\n', '').replace('.', '').replace('ULICA', '').replace('UL', '').title().strip().replace('Iii', 'III').replace('3', 'III').replace('Trzeciego', 'III')\n",
    "d = d.upper().replace('\\t', '').replace('\\n', '').replace('.', '').replace('ULICA', '').replace('UL', '').title().strip().replace('Iii', 'III').replace('3', 'III').replace('Trzeciego', 'III')\n",
    "e = e.upper().replace('\\t', '').replace('\\n', '').replace('.', '').replace('ULICA', '').replace('UL', '').title().strip().replace('Iii', 'III').replace('3', 'III').replace('Trzeciego', 'III')\n",
    "f = f.upper().replace('\\t', '').replace('\\n', '').replace('.', '').replace('ULICA', '').replace('UL', '').title().strip().replace('Iii', 'III').replace('3', 'III').replace('Trzeciego', 'III')\n",
    "g = g.upper().replace('\\t', '').replace('\\n', '').replace('.', '').replace('ULICA', '').replace('UL', '').title().strip().replace('Iii', 'III').replace('3', 'III').replace('Trzeciego', 'III')\n",
    "h = h.upper().replace('\\t', '').replace('\\n', '').replace('.', '').replace('ULICA', '').replace('UL', '').title().strip().replace('Iii', 'III').replace('3', 'III').replace('Trzeciego', 'III')\n",
    "i = i.upper().replace('\\t', '').replace('\\n', '').replace('.', '').replace('ULICA', '').replace('UL', '').title().strip().replace('Iii', 'III').replace('3', 'III').replace('Trzeciego', 'III')\n",
    "\n",
    "expected = 'Jana III Sobieskiego'\n",
    "\n",
    "print(f'{a == expected}\\ta = \"{a}\"')\n",
    "print(f'{b == expected}\\tb = \"{b}\"')\n",
    "print(f'{c == expected}\\tc = \"{c}\"')\n",
    "print(f'{d == expected}\\td = \"{d}\"')\n",
    "print(f'{e == expected}\\te = \"{e}\"')\n",
    "print(f'{f == expected}\\tf = \"{f}\"')\n",
    "print(f'{g == expected}\\tg = \"{g}\"')\n",
    "print(f'{h == expected}\\th = \"{h}\"')\n",
    "print(f'{i == expected}\\ti = \"{i}\"')"
   ]
  },
  {
   "cell_type": "code",
   "execution_count": null,
   "id": "casual-township",
   "metadata": {},
   "outputs": [],
   "source": []
  }
 ],
 "metadata": {
  "kernelspec": {
   "display_name": "Python 3",
   "language": "python",
   "name": "python3"
  },
  "language_info": {
   "codemirror_mode": {
    "name": "ipython",
    "version": 3
   },
   "file_extension": ".py",
   "mimetype": "text/x-python",
   "name": "python",
   "nbconvert_exporter": "python",
   "pygments_lexer": "ipython3",
   "version": "3.9.2"
  }
 },
 "nbformat": 4,
 "nbformat_minor": 5
}
