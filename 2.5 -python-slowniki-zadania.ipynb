{
 "cells": [
  {
   "cell_type": "markdown",
   "id": "sized-consequence",
   "metadata": {},
   "source": [
    "# Python: Słowniki - zadania"
   ]
  },
  {
   "cell_type": "markdown",
   "id": "typical-serbia",
   "metadata": {},
   "source": [
    "## Mapping Dict Define\n",
    "1. Użyj danych z sekcji \"Input\" (patrz poniżej)\n",
    "1. Stwórz ``result: dict`` reprezentujący dane wejściowe\n",
    "\n",
    "Input:\n",
    "```\n",
    "First Name: Jan\n",
    "Last Name: Twardowski\n",
    "Missions: Apollo, Artemis\n",
    "```"
   ]
  },
  {
   "cell_type": "code",
   "execution_count": 4,
   "id": "verbal-leeds",
   "metadata": {},
   "outputs": [
    {
     "data": {
      "text/plain": [
       "{'First Name': 'Jan', 'Last Name': 'Twardowski', 'Missions': 'Apollo, Artemis'}"
      ]
     },
     "execution_count": 4,
     "metadata": {},
     "output_type": "execute_result"
    }
   ],
   "source": [
    "result = {\n",
    "    'First Name': 'Jan',\n",
    "    'Last Name': 'Twardowski',\n",
    "    'Missions': 'Apollo, Artemis'\n",
    "}\n",
    "result"
   ]
  },
  {
   "cell_type": "markdown",
   "id": "declared-prisoner",
   "metadata": {},
   "source": [
    "## Mapping Dict Items\n",
    "\n",
    "1. Użyj danych z sekcji \"Input\" (patrz poniżej)\n",
    "1. Wypisz listę kluczy z ``DATA``\n",
    "1. Wypisz listę wartości z ``DATA``\n",
    "1. Wypisz listę pary klucz-wartość z ``DATA``\n",
    "1. Porównaj wyniki z sekcją \"Output\" (patrz poniżej)\n",
    "\n",
    "Input:\n",
    "```python\n",
    "DATA = {\n",
    "    'Sepal length': 5.8,\n",
    "    'Sepal width': 2.7,\n",
    "    'Petal length': 5.1,\n",
    "    'Petal width': 1.9,\n",
    "}\n",
    "```\n",
    "\n",
    "Output:\n",
    "```python\n",
    "keys: list\n",
    "# ['Sepal length', 'Sepal width', 'Petal length', 'Petal width']\n",
    "\n",
    "values: list\n",
    "# [5.8, 2.7, 5.1, 1.9]\n",
    "\n",
    "items: List[tuple]\n",
    "# [('Sepal length', 5.8),\n",
    "#  ('Sepal width', 2.7),\n",
    "#  ('Petal length', 5.1),\n",
    "#  ('Petal width', 1.9)]\n",
    "```"
   ]
  },
  {
   "cell_type": "code",
   "execution_count": 10,
   "id": "stone-colombia",
   "metadata": {},
   "outputs": [
    {
     "data": {
      "text/plain": [
       "['Sepal length', 'Sepal width', 'Petal length', 'Petal width']"
      ]
     },
     "execution_count": 10,
     "metadata": {},
     "output_type": "execute_result"
    }
   ],
   "source": [
    "DATA = {\n",
    "    'Sepal length': 5.8,\n",
    "    'Sepal width': 2.7,\n",
    "    'Petal length': 5.1,\n",
    "    'Petal width': 1.9,\n",
    "}\n",
    "list(DATA.keys())"
   ]
  },
  {
   "cell_type": "code",
   "execution_count": 11,
   "id": "favorite-cache",
   "metadata": {},
   "outputs": [
    {
     "data": {
      "text/plain": [
       "[5.8, 2.7, 5.1, 1.9]"
      ]
     },
     "execution_count": 11,
     "metadata": {},
     "output_type": "execute_result"
    }
   ],
   "source": [
    "list(DATA.values())"
   ]
  },
  {
   "cell_type": "code",
   "execution_count": 9,
   "id": "loaded-tattoo",
   "metadata": {},
   "outputs": [
    {
     "data": {
      "text/plain": [
       "[('Sepal length', 5.8),\n",
       " ('Sepal width', 2.7),\n",
       " ('Petal length', 5.1),\n",
       " ('Petal width', 1.9)]"
      ]
     },
     "execution_count": 9,
     "metadata": {},
     "output_type": "execute_result"
    }
   ],
   "source": [
    "list(DATA.items())"
   ]
  },
  {
   "cell_type": "markdown",
   "id": "optimum-stuart",
   "metadata": {},
   "source": [
    "### Mapping Dict Substitute\n",
    "\n",
    "1. Użyj danych z sekcji \"Input\" (patrz poniżej)\n",
    "1. Poproś użytkownika o wprowadzenie jednej litery\n",
    "1. Przekonwertuj literę na małą\n",
    "1. Jeżeli litera jest w ``PL`` to użyj przekonwertowanej wartości jako litera\n",
    "1. Wypisz literę\n",
    "\n",
    "Input:\n",
    "```python\n",
    "PL = {'ą': 'a', 'ć': 'c', 'ę': 'e',\n",
    "      'ł': 'l', 'ń': 'n', 'ó': 'o',\n",
    "      'ś': 's', 'ż': 'z', 'ź': 'z'}\n",
    "```"
   ]
  },
  {
   "cell_type": "code",
   "execution_count": 11,
   "id": "sticky-engagement",
   "metadata": {},
   "outputs": [
    {
     "name": "stdout",
     "output_type": "stream",
     "text": [
      "Podaj literę: P\n"
     ]
    },
    {
     "data": {
      "text/plain": [
       "'p'"
      ]
     },
     "execution_count": 11,
     "metadata": {},
     "output_type": "execute_result"
    }
   ],
   "source": [
    "litera = input('Podaj literę: ').lower()\n",
    "\n",
    "PL = {'ą': 'a', 'ć': 'c', 'ę': 'e',\n",
    "      'ł': 'l', 'ń': 'n', 'ó': 'o',\n",
    "      'ś': 's', 'ż': 'z', 'ź': 'z'}\n",
    "\n",
    "PL.get(litera, litera)"
   ]
  },
  {
   "cell_type": "markdown",
   "id": "capital-headquarters",
   "metadata": {},
   "source": [
    "## Mapping Dict Get\n",
    "\n",
    "1. Użyj danych z sekcji \"Input\" (patrz poniżej)\n",
    "1. Stwórz tłumacza alfabetu pilotów\n",
    "1. Pojedynczym literom przyporządkuj ich fonetyczne odpowiedniki\n",
    "1. Do przekonwertowania tabelki wykorzystaj zaznaczanie wielu linijek za pomocą klawisza ``alt`` w Twoim IDE (jeżeli skrót klawiszowy nie działa w Twoim IDE, użyj tylko cztery pierwsze litery)\n",
    "1. Poproś użytkownika o wprowadzenie litery\n",
    "1. Użytkownik zawsze poda tylko jedną dużą literę lub cyfrę\n",
    "1. Wypisz fonetyczną wymowę litery\n",
    "1. Jeżeli wpisał znak, który nie występuje w alfabecie, wypisz: \"Pilots don't say that\"\n",
    "1. Nie używaj ``if``, ``try`` ani ``except``\n",
    "\n",
    "Input:\n",
    "```\n",
    "Letter, Pronounce\n",
    "A, Alfa\n",
    "B, Bravo\n",
    "C, Charlie\n",
    "D, Delta\n",
    "E, Echo\n",
    "F, Foxtrot\n",
    "G, Golf\n",
    "H, Hotel\n",
    "I, India\n",
    "J, Juliet\n",
    "K, Kilo\n",
    "L, Lima\n",
    "M, Mike\n",
    "N, November\n",
    "O, Oscar\n",
    "P, Papa\n",
    "Q, Quebec\n",
    "R, Romeo\n",
    "S, Sierra\n",
    "T, Tango\n",
    "U, Uniform\n",
    "V, Victor\n",
    "W, Whisky\n",
    "X, X-Ray\n",
    "Y, Yankee\n",
    "Z, Zulu\n",
    "```"
   ]
  },
  {
   "cell_type": "code",
   "execution_count": 18,
   "id": "delayed-greek",
   "metadata": {},
   "outputs": [
    {
     "name": "stdout",
     "output_type": "stream",
     "text": [
      "Type a letter: 9\n"
     ]
    },
    {
     "data": {
      "text/plain": [
       "\"Pilots don't say that\""
      ]
     },
     "execution_count": 18,
     "metadata": {},
     "output_type": "execute_result"
    }
   ],
   "source": [
    "ALPHABET = {\n",
    "    'A': 'Alfa',\n",
    "    'B': 'Bravo',\n",
    "    'C': 'Charlie',\n",
    "    'D': 'Delta',\n",
    "    'E': 'Echo',\n",
    "    'F': 'Foxtrot',\n",
    "    'G': 'Golf',\n",
    "    'H': 'Hotel',\n",
    "    'I': 'India',\n",
    "    'J': 'Juliet',\n",
    "    'K': 'Kilo',\n",
    "    'L': 'Lima',\n",
    "    'M': 'Mike',\n",
    "    'N': 'November',\n",
    "    'O': 'Oscar',\n",
    "    'P': 'Papa',\n",
    "    'Q': 'Quebec',\n",
    "    'R': 'Romeo',\n",
    "    'S': 'Sierra',\n",
    "    'T': 'Tango',\n",
    "    'U': 'Uniform',\n",
    "    'V': 'Victor',\n",
    "    'W': 'Whisky',\n",
    "    'X': 'X-,Ray',\n",
    "    'Y': 'Yankee',\n",
    "    'Z': 'Zulu'\n",
    "}\n",
    "letter = input('Type a letter: ')\n",
    "ALPHABET.get(letter, 'Pilots don\\'t say that')"
   ]
  },
  {
   "cell_type": "markdown",
   "id": "handled-tanzania",
   "metadata": {},
   "source": [
    "## Mapping Generate Pairs\n",
    "\n",
    "1. Użyj danych z sekcji \"Input\" (patrz poniżej)\n",
    "1. Stwórz ``result: dict``\n",
    "1. Przekonwertuj ``DATA`` do ``dict`` i przypisz do ``result``\n",
    "1. Porównaj wyniki z sekcją \"Output\" (patrz poniżej)\n",
    "\n",
    "Input:\n",
    "```python\n",
    "DATA = [\n",
    "    ('Sepal length', 5.8),\n",
    "    ('Sepal width', 2.7),\n",
    "    ('Petal length', 5.1),\n",
    "    ('Petal width', 1.9),\n",
    "    ('Species', 'virginica')\n",
    "]\n",
    "```\n",
    "\n",
    "Output:\n",
    "```\n",
    "result: dict\n",
    "# {'Sepal length': 5.8,\n",
    "#  'Sepal width': 2.7,\n",
    "#  'Petal length': 5.1,\n",
    "#  'Petal width': 1.9,\n",
    "#  'Species': 'virginica'}\n",
    "```"
   ]
  },
  {
   "cell_type": "code",
   "execution_count": 20,
   "id": "certain-deadline",
   "metadata": {},
   "outputs": [
    {
     "data": {
      "text/plain": [
       "{'Sepal length': 5.8,\n",
       " 'Sepal width': 2.7,\n",
       " 'Petal length': 5.1,\n",
       " 'Petal width': 1.9,\n",
       " 'Species': 'virginica'}"
      ]
     },
     "execution_count": 20,
     "metadata": {},
     "output_type": "execute_result"
    }
   ],
   "source": [
    "DATA = [\n",
    "    ('Sepal length', 5.8),\n",
    "    ('Sepal width', 2.7),\n",
    "    ('Petal length', 5.1),\n",
    "    ('Petal width', 1.9),\n",
    "    ('Species', 'virginica')\n",
    "]\n",
    "\n",
    "result = dict(DATA)\n",
    "result"
   ]
  },
  {
   "cell_type": "markdown",
   "id": "interracial-tiffany",
   "metadata": {},
   "source": [
    "## Mapping Generate Enumerate\n",
    "1. Użyj danych z sekcji \"Input\" (patrz poniżej)\n",
    "1. Stwórz ``result: dict``\n",
    "1. Używając ``enumerate()`` przekonwertuj dane do ``dict`` i przypisz do ``result``\n",
    "1. Porównaj wyniki z sekcją \"Output\" (patrz poniżej)\n",
    "\n",
    "Input:\n",
    "```python\n",
    "DATA = ['setosa', 'versicolor', 'virginica']\n",
    "```\n",
    "\n",
    "Output:\n",
    "```python\n",
    "result: dict\n",
    "# {0: 'setosa',\n",
    "#  1: 'versicolor',\n",
    "#  2: 'virginica'}\n",
    "```"
   ]
  },
  {
   "cell_type": "code",
   "execution_count": 24,
   "id": "governmental-luxury",
   "metadata": {},
   "outputs": [
    {
     "data": {
      "text/plain": [
       "{0: 'setosa', 1: 'versicolor', 2: 'virginica'}"
      ]
     },
     "execution_count": 24,
     "metadata": {},
     "output_type": "execute_result"
    }
   ],
   "source": [
    "DATA = ['setosa', 'versicolor', 'virginica']\n",
    "\n",
    "result = dict(enumerate(DATA))\n",
    "result"
   ]
  },
  {
   "cell_type": "markdown",
   "id": "popular-contrast",
   "metadata": {},
   "source": [
    "## Mapping Generate Zip\n",
    "\n",
    "1. Użyj danych z sekcji \"Input\" (patrz poniżej)\n",
    "1. Stwórz ``result: dict``\n",
    "1. Używając ``zip()`` przekonwertuj dane do ``dict`` i przypisz do ``result``\n",
    "1. Porównaj wyniki z sekcją \"Output\" (patrz poniżej)\n",
    "\n",
    "Input:\n",
    "```python\n",
    "KEYS =  ['Sepal length', 'Sepal width', 'Petal length', 'Petal width', 'Species']\n",
    "VALUES = [5.8, 2.7, 5.1, 1.9, 'virginica']\n",
    "```\n",
    "\n",
    "Output:\n",
    "```python\n",
    "result: dict\n",
    "# {'Sepal length': 5.8,\n",
    "#  'Sepal width': 2.7,\n",
    "#  'Petal length': 5.1,\n",
    "#  'Petal width': 1.9,\n",
    "#  'Species': 'virginica'}\n",
    "```"
   ]
  },
  {
   "cell_type": "code",
   "execution_count": 26,
   "id": "tracked-chance",
   "metadata": {},
   "outputs": [
    {
     "data": {
      "text/plain": [
       "{'Sepal length': 5.8,\n",
       " 'Sepal width': 2.7,\n",
       " 'Petal length': 5.1,\n",
       " 'Petal width': 1.9,\n",
       " 'Species': 'virginica'}"
      ]
     },
     "execution_count": 26,
     "metadata": {},
     "output_type": "execute_result"
    }
   ],
   "source": [
    "KEYS =  ['Sepal length', 'Sepal width', 'Petal length', 'Petal width', 'Species']\n",
    "VALUES = [5.8, 2.7, 5.1, 1.9, 'virginica']\n",
    "\n",
    "result = dict(zip(KEYS, VALUES))\n",
    "result"
   ]
  },
  {
   "cell_type": "code",
   "execution_count": null,
   "id": "local-central",
   "metadata": {},
   "outputs": [],
   "source": []
  }
 ],
 "metadata": {
  "kernelspec": {
   "display_name": "Python 3",
   "language": "python",
   "name": "python3"
  },
  "language_info": {
   "codemirror_mode": {
    "name": "ipython",
    "version": 3
   },
   "file_extension": ".py",
   "mimetype": "text/x-python",
   "name": "python",
   "nbconvert_exporter": "python",
   "pygments_lexer": "ipython3",
   "version": "3.9.2"
  }
 },
 "nbformat": 4,
 "nbformat_minor": 5
}
