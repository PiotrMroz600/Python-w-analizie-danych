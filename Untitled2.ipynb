{
 "cells": [
  {
   "cell_type": "code",
   "execution_count": 3,
   "id": "painted-aruba",
   "metadata": {},
   "outputs": [
    {
     "name": "stdout",
     "output_type": "stream",
     "text": [
      "Wartość liczby Pi wynosi: 3\n",
      "Wartość liczby Pi wynosi: 3.14\n",
      "Wartość liczby Pi wynosi: 3.142\n"
     ]
    }
   ],
   "source": [
    "pi = 3.14159265\n",
    "print(f'Wartość liczby Pi wynosi: {pi:.0f}')\n",
    "print(f'Wartość liczby Pi wynosi: {pi:.2f}')\n",
    "print(f'Wartość liczby Pi wynosi: {pi:.3f}')"
   ]
  },
  {
   "cell_type": "code",
   "execution_count": null,
   "id": "subsequent-attempt",
   "metadata": {},
   "outputs": [],
   "source": []
  }
 ],
 "metadata": {
  "kernelspec": {
   "display_name": "Python 3",
   "language": "python",
   "name": "python3"
  },
  "language_info": {
   "codemirror_mode": {
    "name": "ipython",
    "version": 3
   },
   "file_extension": ".py",
   "mimetype": "text/x-python",
   "name": "python",
   "nbconvert_exporter": "python",
   "pygments_lexer": "ipython3",
   "version": "3.9.2"
  }
 },
 "nbformat": 4,
 "nbformat_minor": 5
}
